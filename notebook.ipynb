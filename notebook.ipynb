{
 "cells": [
  {
   "cell_type": "markdown",
   "metadata": {},
   "source": [
    "# Text to Speech Conversion"
   ]
  },
  {
   "cell_type": "markdown",
   "metadata": {},
   "source": [
    "#### Install Dependencies\n",
    "- IBM Watson"
   ]
  },
  {
   "cell_type": "markdown",
   "metadata": {
    "vscode": {
     "languageId": "plaintext"
    }
   },
   "source": [
    "### Authenticate"
   ]
  },
  {
   "cell_type": "code",
   "execution_count": 14,
   "metadata": {},
   "outputs": [],
   "source": [
    "url = 'https://api.au-syd.text-to-speech.watson.cloud.ibm.com/instances/06655568-d906-4e9f-946b-78024855210a'\n",
    "apikey = 'Kb2c7L6DIA9AutpU4nAwcM6KyIzLi3rVJd7xj8kkgVcX'"
   ]
  },
  {
   "cell_type": "code",
   "execution_count": 15,
   "metadata": {},
   "outputs": [],
   "source": [
    "from ibm_watson import TextToSpeechV1\n",
    "from ibm_cloud_sdk_core.authenticators import IAMAuthenticator"
   ]
  },
  {
   "cell_type": "code",
   "execution_count": 16,
   "metadata": {},
   "outputs": [],
   "source": [
    "# Setup Service\n",
    "authenticator = IAMAuthenticator(apikey)\n",
    "\n",
    "# New TTS Service\n",
    "tts = TextToSpeechV1(authenticator=authenticator)\n",
    "\n",
    "#Set Service URL\n",
    "tts.set_service_url(url)"
   ]
  },
  {
   "cell_type": "markdown",
   "metadata": {},
   "source": [
    "#### Conver A String"
   ]
  },
  {
   "cell_type": "code",
   "execution_count": 19,
   "metadata": {},
   "outputs": [],
   "source": [
    "with open('./speech.mp3', 'wb') as audio_file:\n",
    "    res = tts.synthesize('Hello! this is a first test of text to speech code', accept='audio/mp3', voice='en-US_AllisonV3Voice').get_result()\n",
    "    audio_file.write(res.content)"
   ]
  },
  {
   "cell_type": "markdown",
   "metadata": {},
   "source": [
    "#### Convert from a File"
   ]
  },
  {
   "cell_type": "code",
   "execution_count": null,
   "metadata": {},
   "outputs": [],
   "source": [
    "with open('tech_poem.txt', 'r') as f:\n",
    "    text = f.readlines()"
   ]
  },
  {
   "cell_type": "code",
   "execution_count": null,
   "metadata": {},
   "outputs": [
    {
     "data": {
      "text/plain": [
       "['In realms of circuits, bright and vast,\\n',\n",
       " 'Where bytes of thought blend with the past,\\n',\n",
       " 'AI whispers in digital dreams,\\n',\n",
       " \"Unraveling the future's seams.\\n\",\n",
       " '\\n',\n",
       " 'Through silicon veins, knowledge flows,\\n',\n",
       " 'Where algorithms learn and prose,\\n',\n",
       " 'In the language of zeros and ones,\\n',\n",
       " \"Echoes of innovation's drums.\\n\",\n",
       " '\\n',\n",
       " \"Technology's heartbeat, fierce and bold,\\n\",\n",
       " 'A symphony of stories told,\\n',\n",
       " 'From quantum realms to cyberspace,\\n',\n",
       " \"Unveiling wonders, time can't erase.\\n\",\n",
       " '\\n',\n",
       " 'So let the voices rise and sing,\\n',\n",
       " \"Of AI's grace and what it brings,\\n\",\n",
       " 'In the realm where dreams take flight,\\n',\n",
       " 'In the dance of pixels, day and night.']"
      ]
     },
     "execution_count": 10,
     "metadata": {},
     "output_type": "execute_result"
    }
   ],
   "source": [
    "text"
   ]
  },
  {
   "cell_type": "code",
   "execution_count": null,
   "metadata": {},
   "outputs": [],
   "source": [
    "text = [line.replace('\\n', '') for line in text]\n",
    "text = ''.join(str(line) for line in text)"
   ]
  },
  {
   "cell_type": "code",
   "execution_count": null,
   "metadata": {},
   "outputs": [
    {
     "data": {
      "text/plain": [
       "\"In realms of circuits, bright and vast,Where bytes of thought blend with the past,AI whispers in digital dreams,Unraveling the future's seams.Through silicon veins, knowledge flows,Where algorithms learn and prose,In the language of zeros and ones,Echoes of innovation's drums.Technology's heartbeat, fierce and bold,A symphony of stories told,From quantum realms to cyberspace,Unveiling wonders, time can't erase.So let the voices rise and sing,Of AI's grace and what it brings,In the realm where dreams take flight,In the dance of pixels, day and night.\""
      ]
     },
     "execution_count": 12,
     "metadata": {},
     "output_type": "execute_result"
    }
   ],
   "source": [
    "text"
   ]
  },
  {
   "cell_type": "code",
   "execution_count": 20,
   "metadata": {},
   "outputs": [],
   "source": [
    "with open('./poem_tech.mp3', 'wb') as audio_file:\n",
    "    res = tts.synthesize(text, accept='audio/mp3', voice='en-US_AllisonV3Voice').get_result()\n",
    "    audio_file.write(res.content)"
   ]
  }
 ],
 "metadata": {
  "kernelspec": {
   "display_name": "myenv",
   "language": "python",
   "name": "python3"
  },
  "language_info": {
   "codemirror_mode": {
    "name": "ipython",
    "version": 3
   },
   "file_extension": ".py",
   "mimetype": "text/x-python",
   "name": "python",
   "nbconvert_exporter": "python",
   "pygments_lexer": "ipython3",
   "version": "3.12.1"
  }
 },
 "nbformat": 4,
 "nbformat_minor": 2
}
